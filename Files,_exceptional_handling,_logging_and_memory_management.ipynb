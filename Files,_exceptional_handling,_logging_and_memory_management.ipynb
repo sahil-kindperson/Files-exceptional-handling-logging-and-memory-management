{
  "nbformat": 4,
  "nbformat_minor": 0,
  "metadata": {
    "colab": {
      "provenance": []
    },
    "kernelspec": {
      "name": "python3",
      "display_name": "Python 3"
    },
    "language_info": {
      "name": "python"
    }
  },
  "cells": [
    {
      "cell_type": "code",
      "execution_count": null,
      "metadata": {
        "id": "H6erxrmjOGSP"
      },
      "outputs": [],
      "source": [
        "#Files, exceptional handling, logging and memory management Questions."
      ]
    },
    {
      "cell_type": "code",
      "source": [
        "#1. What is the difference between interpreted and compiled languages?"
      ],
      "metadata": {
        "id": "QOMtVYuqOles"
      },
      "execution_count": null,
      "outputs": []
    },
    {
      "cell_type": "markdown",
      "source": [
        "1. Compiled Languages: Translated once → Faster execution\n",
        "2. Interpreted Languages: Translated at runtime → More flexible but slower"
      ],
      "metadata": {
        "id": "-o5X8n-aOpcv"
      }
    },
    {
      "cell_type": "code",
      "source": [
        "#2. What is exception handling in Python?"
      ],
      "metadata": {
        "id": "UNiK68j8O-G6"
      },
      "execution_count": null,
      "outputs": []
    },
    {
      "cell_type": "markdown",
      "source": [
        "Exception handling in Python is a mechanism that allows you to gracefully manage errors that occur during program execution. It helps prevent the program from crashing unexpectedly by providing alternative logic or error messages."
      ],
      "metadata": {
        "id": "b15t8G4cPaqf"
      }
    },
    {
      "cell_type": "code",
      "source": [
        "#3. What is the purpose of the finally block in exception handling?"
      ],
      "metadata": {
        "id": "7ZkUUhvzPhgY"
      },
      "execution_count": null,
      "outputs": []
    },
    {
      "cell_type": "markdown",
      "source": [
        "The finally block in exception handling is used to execute code that must run regardless of whether an exception occurs or not. It is typically used for cleanup tasks, such as closing files, releasing resources, or disconnecting from a database."
      ],
      "metadata": {
        "id": "y1vsTOXLQojZ"
      }
    },
    {
      "cell_type": "code",
      "source": [
        "#4. What is logging in Python?"
      ],
      "metadata": {
        "id": "_7FRnyrZQxhR"
      },
      "execution_count": null,
      "outputs": []
    },
    {
      "cell_type": "markdown",
      "source": [
        "Logging in Python is a powerful tool used to track and record events that occur while a program is running. It provides insights into the program's flow, errors, and warnings, making it easier to debug and monitor applications."
      ],
      "metadata": {
        "id": "7yDnsNz3Q1nK"
      }
    },
    {
      "cell_type": "code",
      "source": [
        "#5. What is the significance of the __del__ method in Python?"
      ],
      "metadata": {
        "id": "0xVGbgN7Q9WP"
      },
      "execution_count": null,
      "outputs": []
    },
    {
      "cell_type": "markdown",
      "source": [
        "The ______del__ method in Python is called when an object is about to be destroyed (i.e., when there are no more references to it). It acts as a destructor, allowing you to define cleanup operations like closing files, releasing resources, or logging messages before the object is removed from memory."
      ],
      "metadata": {
        "id": "S3FE69_bRDdd"
      }
    },
    {
      "cell_type": "code",
      "source": [
        "#6. What is the difference between import and from ... import in Python?"
      ],
      "metadata": {
        "id": "OhUJwW-vRKa8"
      },
      "execution_count": null,
      "outputs": []
    },
    {
      "cell_type": "markdown",
      "source": [
        "1. **import Statement**\n",
        "\n",
        "The import statement imports the entire module. To access its functions, classes, or variables, you must use the module name as a prefix.\n",
        "\n",
        "2. **from ... import Statement**\n",
        "\n",
        "The from ... import statement imports specific functions, classes, or variables from a module. This allows you to access them directly without the module name."
      ],
      "metadata": {
        "id": "lxrbYJl2RT8s"
      }
    },
    {
      "cell_type": "code",
      "source": [
        "#7. How can you handle multiple exceptions in Python?"
      ],
      "metadata": {
        "id": "rgZrE2zkR1Tv"
      },
      "execution_count": null,
      "outputs": []
    },
    {
      "cell_type": "markdown",
      "source": [
        "1. Using Multiple except Blocks (Recommended Approach)\n",
        "\n",
        "This method allows you to specify different except blocks for handling specific exceptions.\n",
        "\n",
        "2. Using a Single except Block with Multiple Exceptions\n",
        "\n",
        "You can combine multiple exceptions in a single except block by grouping them in a tuple.\n",
        "\n"
      ],
      "metadata": {
        "id": "P88ArFdCR6kB"
      }
    },
    {
      "cell_type": "code",
      "source": [
        "#8. What is the purpose of the with statement when handling files in Python?"
      ],
      "metadata": {
        "id": "V0X5rfmNSXG2"
      },
      "execution_count": null,
      "outputs": []
    },
    {
      "cell_type": "markdown",
      "source": [
        "The with statement in Python is used to handle files efficiently and safely by automatically managing file resources. It ensures that files are properly opened, used, and closed, even if an error occurs."
      ],
      "metadata": {
        "id": "APn8f9OoSdlg"
      }
    },
    {
      "cell_type": "code",
      "source": [
        "#9. What is the difference between multithreading and multiprocessing?"
      ],
      "metadata": {
        "id": "HDC-C8fCSjOI"
      },
      "execution_count": null,
      "outputs": []
    },
    {
      "cell_type": "markdown",
      "source": [
        "**Multithreading**\n",
        "\n",
        "1. Uses multiple threads (lightweight processes) within a single process.\n",
        "2. Threads share the same memory space, making communication between them easy.\n",
        "3. Ideal for I/O-bound tasks (e.g., file reading, network requests).\n",
        "4.  Limited by Python’s Global Interpreter Lock (GIL), meaning only one thread executes Python code at a time.\n",
        "\n",
        "**Multiprocessing**\n",
        "1. Uses multiple processes, each with its own memory space.\n",
        "2. Bypasses Python’s GIL, allowing true parallel execution on multiple CPU cores.\n",
        "3. Ideal for CPU-bound tasks (e.g., data processing, mathematical computations).\n",
        "4. More memory-intensive than threads, as each process runs in its own memory space."
      ],
      "metadata": {
        "id": "KEkB1iMxSoMv"
      }
    },
    {
      "cell_type": "code",
      "source": [
        "#10. What are the advantages of using logging in a program?"
      ],
      "metadata": {
        "id": "OO3NE4kTTSzF"
      },
      "execution_count": null,
      "outputs": []
    },
    {
      "cell_type": "markdown",
      "source": [
        "1. Enhanced Debugging and Error Tracking.\n",
        "2. Flexible Severity Levels.\n",
        "3. Persistent Record Keeping.\n",
        "4. Better Control with Log Formatting."
      ],
      "metadata": {
        "id": "fxedQ1pTTYMr"
      }
    },
    {
      "cell_type": "code",
      "source": [
        "#11. What is memory management in Python?"
      ],
      "metadata": {
        "id": "XNliurMSTpvc"
      },
      "execution_count": null,
      "outputs": []
    },
    {
      "cell_type": "markdown",
      "source": [
        "Memory management in Python refers to the efficient allocation, usage, and deallocation of memory in the system. Python’s memory management system is highly optimized and automated, ensuring that developers don’t have to manually manage memory in most cases.\n",
        "\n"
      ],
      "metadata": {
        "id": "j14hxoWZTvp_"
      }
    },
    {
      "cell_type": "code",
      "source": [
        "#12. What are the basic steps involved in exception handling in Python?"
      ],
      "metadata": {
        "id": "Ayq4xeQwVPkt"
      },
      "execution_count": null,
      "outputs": []
    },
    {
      "cell_type": "markdown",
      "source": [
        "1. Identify the Code That May Cause an Exception\n",
        "2. Use the except Block to Handle Specific Exceptions\n",
        "3. Use else for Code That Runs When No Exception Occurs (Optional)\n",
        "4. Use finally to Execute Cleanup Code (Always Executes)"
      ],
      "metadata": {
        "id": "V1A49eiDVWB2"
      }
    },
    {
      "cell_type": "code",
      "source": [
        "#13. Why is memory management important in Python?"
      ],
      "metadata": {
        "id": "kgi6ElcfVvH4"
      },
      "execution_count": null,
      "outputs": []
    },
    {
      "cell_type": "markdown",
      "source": [
        "1. Prevents Memory Leaks\n",
        "2. Improves Application Performance\n",
        "3. Ensures Scalability\n",
        "4. Reduces Manual Effort"
      ],
      "metadata": {
        "id": "EdzgeVkyV9PL"
      }
    },
    {
      "cell_type": "code",
      "source": [
        "#14. What is the role of try and except in exception handling?"
      ],
      "metadata": {
        "id": "_B4v1Kk_WN2V"
      },
      "execution_count": null,
      "outputs": []
    },
    {
      "cell_type": "markdown",
      "source": [
        "In Python, the try and except blocks are fundamental to handling exceptions and ensuring your program runs smoothly even when unexpected errors occur."
      ],
      "metadata": {
        "id": "6KZcrymuWUGD"
      }
    },
    {
      "cell_type": "code",
      "source": [
        "#15. How does Python's garbage collection system work?"
      ],
      "metadata": {
        "id": "g7kVN4YiWtNi"
      },
      "execution_count": null,
      "outputs": []
    },
    {
      "cell_type": "markdown",
      "source": [
        "Python's garbage collection (GC) system is responsible for automatically managing memory by reclaiming unused objects. This helps prevent memory leaks and ensures efficient resource utilization. Python’s garbage collection system combines two key mechanisms:\n",
        "\n",
        "1. Reference Counting (Primary mechanism)\n",
        "2. Cyclic Garbage Collector (Secondary mechanism for circular references)"
      ],
      "metadata": {
        "id": "1elac-v0Wy4e"
      }
    },
    {
      "cell_type": "code",
      "source": [
        "#16. What is the purpose of the else block in exception handling?"
      ],
      "metadata": {
        "id": "ZyCT1JP7XBGc"
      },
      "execution_count": null,
      "outputs": []
    },
    {
      "cell_type": "markdown",
      "source": [
        "The else block in Python’s exception handling structure is used to specify code that should run only if no exception occurs in the try block."
      ],
      "metadata": {
        "id": "qIO7aCbiXGH7"
      }
    },
    {
      "cell_type": "code",
      "source": [
        "#17. What are the common logging levels in Python?"
      ],
      "metadata": {
        "id": "tOUWzuFpXPS8"
      },
      "execution_count": null,
      "outputs": []
    },
    {
      "cell_type": "markdown",
      "source": [
        "Python’s logging module provides several logging levels to categorize messages by severity. These levels help in tracking events, debugging, and monitoring program execution."
      ],
      "metadata": {
        "id": "_0mMKjpvYq5n"
      }
    },
    {
      "cell_type": "code",
      "source": [
        "#18. What is the difference between os.fork() and multiprocessing in Python?"
      ],
      "metadata": {
        "id": "spj_tZMlY2wS"
      },
      "execution_count": null,
      "outputs": []
    },
    {
      "cell_type": "markdown",
      "source": [
        "**os.fork()**\n",
        "1. os.fork() is a low-level system call that creates a new process by duplicating the current process.\n",
        "2. It is only available on UNIX-based systems (Linux, macOS) and not supported on Windows.\n",
        "3. The new process (child process) gets a copy of the parent process's memory and starts execution from the same point after the fork.\n",
        "\n",
        "**multiprocessing Module**\n",
        "1. The multiprocessing module is a high-level API for creating and managing processes.\n",
        "2. It works on all platforms (Windows, Linux, macOS).\n",
        "3. Processes created using multiprocessing run in separate memory spaces and don’t share the same memory."
      ],
      "metadata": {
        "id": "yKHoD7maY6nb"
      }
    },
    {
      "cell_type": "code",
      "source": [
        "#19. What is the importance of closing a file in Python?"
      ],
      "metadata": {
        "id": "fWNV3EoyZxca"
      },
      "execution_count": null,
      "outputs": []
    },
    {
      "cell_type": "markdown",
      "source": [
        "Closing a file in Python is crucial to ensure that system resources are properly released and data integrity is maintained. When you open a file using open(), Python allocates resources (like file handles) to manage that file. Failing to close the file can lead to:\n",
        "\n",
        "1. Resource Leaks\n",
        "2. Data Loss or Corruption\n",
        "3. Unexpected Behavior"
      ],
      "metadata": {
        "id": "uvZC1Up_aAKe"
      }
    },
    {
      "cell_type": "code",
      "source": [
        "#20. What is the difference between file.read() and file.readline() in Python?"
      ],
      "metadata": {
        "id": "zWf1Jlr_aEwi"
      },
      "execution_count": null,
      "outputs": []
    },
    {
      "cell_type": "markdown",
      "source": [
        "**file.read()**\n",
        "1. Reads the entire file content as a single string by default.\n",
        "2. Can also read a specific number of characters if an argument is provided.\n",
        "3. Suitable for reading small-sized files efficiently.\n",
        "\n",
        "**file.readline()**\n",
        "1. Reads one line at a time from the file.\n",
        "2. Each call to .readline() moves the file pointer to the next line.\n",
        "3. Suitable for reading large files where reading the entire content at once is inefficient."
      ],
      "metadata": {
        "id": "w2K-KivZaJ2X"
      }
    },
    {
      "cell_type": "code",
      "source": [
        "#21. What is the logging module in Python used for?"
      ],
      "metadata": {
        "id": "8fuaS3V9aqV_"
      },
      "execution_count": null,
      "outputs": []
    },
    {
      "cell_type": "markdown",
      "source": [
        "**Python logging Module — Overview and Purpose:**\n",
        "\n",
        "The logging module in Python is a powerful tool used to track events, errors, and application flow. It is widely used for:\n",
        "\n",
        "1. Debugging — Identifying issues during development.\n",
        "2. Monitoring — Tracking program execution and performance.\n",
        "3. Error Tracking — Logging critical issues for later analysis.\n",
        "4. Audit and Security — Maintaining logs for security or compliance purposes."
      ],
      "metadata": {
        "id": "CwmQM_aEa00C"
      }
    },
    {
      "cell_type": "code",
      "source": [
        "#22. What is the os module in Python used for in file handling?"
      ],
      "metadata": {
        "id": "OIxb_lo6bMrc"
      },
      "execution_count": null,
      "outputs": []
    },
    {
      "cell_type": "markdown",
      "source": [
        "The os module in Python provides a way to interact with the operating system. It is widely used for file handling, directory management, and system-level tasks."
      ],
      "metadata": {
        "id": "CoBM8TCXbbFt"
      }
    },
    {
      "cell_type": "code",
      "source": [
        "#23. What are the challenges associated with memory management in Python?"
      ],
      "metadata": {
        "id": "6YPfAnwcbliy"
      },
      "execution_count": null,
      "outputs": []
    },
    {
      "cell_type": "markdown",
      "source": [
        "Python’s memory management system is designed to be efficient, but it comes with some inherent challenges. These issues can impact performance, resource utilization, and code stability. Below are key challenges developers face in Python's memory management:\n",
        "\n",
        "1. Garbage Collection Overhead\n",
        "2. Circular References\n",
        "3. Memory Leaks\n",
        "4. Fragmentation"
      ],
      "metadata": {
        "id": "M3oABV-UbpXL"
      }
    },
    {
      "cell_type": "code",
      "source": [
        "#24.  How do you raise an exception manually in Python?"
      ],
      "metadata": {
        "id": "bbjPuUzYcIWh"
      },
      "execution_count": null,
      "outputs": []
    },
    {
      "cell_type": "markdown",
      "source": [
        "In Python, you can manually raise exceptions using the raise keyword. This is useful when you want to handle specific error conditions or enforce certain constraints in your code."
      ],
      "metadata": {
        "id": "cosH3IqecSUD"
      }
    },
    {
      "cell_type": "code",
      "source": [
        "#25. Why is it important to use multithreading in certain applications?"
      ],
      "metadata": {
        "id": "ZLVqhkqzcao_"
      },
      "execution_count": null,
      "outputs": []
    },
    {
      "cell_type": "markdown",
      "source": [
        "Multithreading is crucial in Python for improving the efficiency, responsiveness, and concurrency of certain applications. It allows multiple threads (lightweight processes) to run concurrently within the same program, sharing the same memory space."
      ],
      "metadata": {
        "id": "Ppc8MAZrcehV"
      }
    },
    {
      "cell_type": "code",
      "source": [
        "\n",
        "\n",
        "#practical questions\n",
        "\n"
      ],
      "metadata": {
        "id": "IpO_hLuhcja4"
      },
      "execution_count": 1,
      "outputs": []
    },
    {
      "cell_type": "code",
      "source": [
        "#1. How can you open a file for writing in Python and write a string to it\n",
        "\n",
        "# Open the file in write mode\n",
        "with open('example.txt', 'w') as file:\n",
        "    # Write a string to the file\n",
        "    file.write(\"Hello, this is a sample text written to the file.\")\n"
      ],
      "metadata": {
        "id": "35n6kUG7AwE8"
      },
      "execution_count": 2,
      "outputs": []
    },
    {
      "cell_type": "code",
      "source": [
        "#2. Write a Python program to read the contents of a file and print each line.\n",
        "\n",
        "# Open the file in read mode\n",
        "with open('example.txt', 'r') as file:\n",
        "    # Iterate through each line in the file\n",
        "    for line in file:\n",
        "        print(line.strip())  # strip() removes any extra newlines or spaces\n"
      ],
      "metadata": {
        "colab": {
          "base_uri": "https://localhost:8080/"
        },
        "id": "zM7_ggahA8yZ",
        "outputId": "9c6ad18f-9ef8-4698-a394-cf2dcfdf12e5"
      },
      "execution_count": 3,
      "outputs": [
        {
          "output_type": "stream",
          "name": "stdout",
          "text": [
            "Hello, this is a sample text written to the file.\n"
          ]
        }
      ]
    },
    {
      "cell_type": "code",
      "source": [
        "#3.  How would you handle a case where the file doesn't exist while trying to open it for reading?\n",
        "\n",
        "try:\n",
        "    with open('example.txt', 'r') as file:\n",
        "        for line in file:\n",
        "            print(line.strip())\n",
        "except FileNotFoundError:\n",
        "    print(\"Error: The file does not exist.\")\n",
        "except Exception as e:\n",
        "    print(f\"An unexpected error occurred: {e}\")\n"
      ],
      "metadata": {
        "colab": {
          "base_uri": "https://localhost:8080/"
        },
        "id": "FA8vGe3gBIxW",
        "outputId": "8788b488-9608-4eb8-8b69-e39b343ecca4"
      },
      "execution_count": 4,
      "outputs": [
        {
          "output_type": "stream",
          "name": "stdout",
          "text": [
            "Hello, this is a sample text written to the file.\n"
          ]
        }
      ]
    },
    {
      "cell_type": "code",
      "source": [
        "#4. Write a Python script that reads from one file and writes its content to another file.\n",
        "\n",
        "try:\n",
        "    # Open the source file for reading\n",
        "    with open('source.txt', 'r') as source_file:\n",
        "        content = source_file.read()\n",
        "\n",
        "    # Open the destination file for writing\n",
        "    with open('destination.txt', 'w') as destination_file:\n",
        "        destination_file.write(content)\n",
        "\n",
        "    print(\"File content successfully copied!\")\n",
        "\n",
        "except FileNotFoundError:\n",
        "    print(\"Error: The source file does not exist.\")\n",
        "except Exception as e:\n",
        "    print(f\"An unexpected error occurred: {e}\")\n"
      ],
      "metadata": {
        "colab": {
          "base_uri": "https://localhost:8080/"
        },
        "id": "bIl4WR5OBS-_",
        "outputId": "38eb60e0-52ba-4372-e061-2b30a66ec5d2"
      },
      "execution_count": 5,
      "outputs": [
        {
          "output_type": "stream",
          "name": "stdout",
          "text": [
            "Error: The source file does not exist.\n"
          ]
        }
      ]
    },
    {
      "cell_type": "code",
      "source": [
        "#5. How would you catch and handle division by zero error in Python?\n",
        "\n",
        "try:\n",
        "    numerator = int(input(\"Enter the numerator: \"))\n",
        "    denominator = int(input(\"Enter the denominator: \"))\n",
        "    result = numerator / denominator\n",
        "    print(f\"Result: {result}\")\n",
        "except ZeroDivisionError:\n",
        "    print(\"Error: Division by zero is not allowed.\")\n",
        "except ValueError:\n",
        "    print(\"Error: Please enter valid numbers.\")\n",
        "except Exception as e:\n",
        "    print(f\"An unexpected error occurred: {e}\")\n"
      ],
      "metadata": {
        "colab": {
          "base_uri": "https://localhost:8080/"
        },
        "id": "5NXYD08vBel_",
        "outputId": "46e09838-1c90-44ae-b7be-11a001f0cfb1"
      },
      "execution_count": 7,
      "outputs": [
        {
          "output_type": "stream",
          "name": "stdout",
          "text": [
            "Enter the numerator: 100\n",
            "Enter the denominator: 10\n",
            "Result: 10.0\n"
          ]
        }
      ]
    },
    {
      "cell_type": "code",
      "source": [
        "#6. Write a Python program that logs an error message to a log file when a division by zero exception occurs.\n",
        "\n",
        "import logging\n",
        "\n",
        "# Configure logging\n",
        "logging.basicConfig(\n",
        "    filename='error_log.txt',    # Log file name\n",
        "    level=logging.ERROR,         # Log only errors\n",
        "    format='%(asctime)s - %(levelname)s - %(message)s'\n",
        ")\n",
        "\n",
        "def divide_numbers(a, b):\n",
        "    try:\n",
        "        result = a / b\n",
        "        print(f\"Result: {result}\")\n",
        "    except ZeroDivisionError:\n",
        "        logging.error(\"Attempted division by zero.\")\n",
        "        print(\"Error: Division by zero is not allowed.\")\n",
        "    except Exception as e:\n",
        "        logging.error(f\"Unexpected error: {e}\")\n",
        "        print(f\"An unexpected error occurred: {e}\")\n",
        "\n",
        "# Example usage\n",
        "try:\n",
        "    numerator = int(input(\"Enter the numerator: \"))\n",
        "    denominator = int(input(\"Enter the denominator: \"))\n",
        "    divide_numbers(numerator, denominator)\n",
        "except ValueError:\n",
        "    print(\"Error: Please enter valid numbers.\")\n"
      ],
      "metadata": {
        "colab": {
          "base_uri": "https://localhost:8080/"
        },
        "id": "7A6aBLd4Bp7n",
        "outputId": "3bdef513-b233-42ba-bd81-01b1144ba799"
      },
      "execution_count": 8,
      "outputs": [
        {
          "output_type": "stream",
          "name": "stdout",
          "text": [
            "Enter the numerator: 100\n",
            "Enter the denominator: 10\n",
            "Result: 10.0\n"
          ]
        }
      ]
    },
    {
      "cell_type": "code",
      "source": [
        "#7. How do you log information at different levels (INFO, ERROR, WARNING) in Python using the logging module?\n",
        "import logging\n",
        "\n",
        "# Configure logging\n",
        "logging.basicConfig(\n",
        "    filename='app.log',\n",
        "    level=logging.DEBUG,\n",
        "    format='%(asctime)s - %(levelname)s - %(message)s'\n",
        ")\n",
        "\n",
        "# Example log messages\n",
        "logging.debug(\"This is a debug message.\")\n",
        "logging.info(\"This is an info message.\")\n",
        "logging.warning(\"This is a warning message.\")\n",
        "logging.error(\"This is an error message.\")\n",
        "logging.critical(\"This is a critical message.\")\n"
      ],
      "metadata": {
        "colab": {
          "base_uri": "https://localhost:8080/"
        },
        "id": "oAR4uxF5B4ot",
        "outputId": "16f67176-1085-479a-f3c9-b6ddde7db1e3"
      },
      "execution_count": 9,
      "outputs": [
        {
          "output_type": "stream",
          "name": "stderr",
          "text": [
            "WARNING:root:This is a warning message.\n",
            "ERROR:root:This is an error message.\n",
            "CRITICAL:root:This is a critical message.\n"
          ]
        }
      ]
    },
    {
      "cell_type": "code",
      "source": [
        "#8. Write a program to handle a file opening error using exception handling.\n",
        "\n",
        "try:\n",
        "    # Attempt to open the file in read mode\n",
        "    with open('sample.txt', 'r') as file:\n",
        "        content = file.read()\n",
        "        print(\"File content:\\n\", content)\n",
        "\n",
        "except FileNotFoundError:\n",
        "    print(\"Error: The file was not found.\")\n",
        "except PermissionError:\n",
        "    print(\"Error: Permission denied. Unable to access the file.\")\n",
        "except Exception as e:\n",
        "    print(f\"An unexpected error occurred: {e}\")\n"
      ],
      "metadata": {
        "colab": {
          "base_uri": "https://localhost:8080/"
        },
        "id": "XkWQEyjwCKgA",
        "outputId": "8a84c1fa-5c8b-4c70-f75a-9efdd5ea2173"
      },
      "execution_count": 10,
      "outputs": [
        {
          "output_type": "stream",
          "name": "stdout",
          "text": [
            "Error: The file was not found.\n"
          ]
        }
      ]
    },
    {
      "cell_type": "code",
      "source": [
        "#9. How can you read a file line by line and store its content in a list in Python?\n",
        "\n",
        "try:\n",
        "    with open('example.txt', 'r') as file:\n",
        "        lines = file.readlines()  # Reads all lines and stores them in a list\n",
        "        lines = [line.strip() for line in lines]  # Remove extra newlines or spaces\n",
        "    print(\"File content as a list:\", lines)\n",
        "except FileNotFoundError:\n",
        "    print(\"Error: The file does not exist.\")\n",
        "except Exception as e:\n",
        "    print(f\"An unexpected error occurred: {e}\")\n"
      ],
      "metadata": {
        "colab": {
          "base_uri": "https://localhost:8080/"
        },
        "id": "41JsACt7DT1a",
        "outputId": "1883c573-c109-43b0-fb0a-180320e725e2"
      },
      "execution_count": 11,
      "outputs": [
        {
          "output_type": "stream",
          "name": "stdout",
          "text": [
            "File content as a list: ['Hello, this is a sample text written to the file.']\n"
          ]
        }
      ]
    },
    {
      "cell_type": "markdown",
      "source": [],
      "metadata": {
        "id": "5ynUbYQnD03h"
      }
    },
    {
      "cell_type": "code",
      "source": [
        "#10. How can you append data to an existing file in Python?\n",
        "try:\n",
        "    with open('example.txt', 'a') as file:\n",
        "        file.write(\"\\nThis is new content appended to the file.\")\n",
        "    print(\"Data successfully appended.\")\n",
        "except FileNotFoundError:\n",
        "    print(\"Error: The file does not exist.\")\n",
        "except Exception as e:\n",
        "    print(f\"An unexpected error occurred: {e}\")\n"
      ],
      "metadata": {
        "colab": {
          "base_uri": "https://localhost:8080/"
        },
        "id": "zTMm6AKODvob",
        "outputId": "ab4bb413-d989-4c45-de1d-41934b33aef4"
      },
      "execution_count": 13,
      "outputs": [
        {
          "output_type": "stream",
          "name": "stdout",
          "text": [
            "Data successfully appended.\n"
          ]
        }
      ]
    },
    {
      "cell_type": "code",
      "source": [
        "#11. Write a Python program that uses a try-except block to handle an error when attempting to access a dictionary key that doesn't exist.\n",
        "\n",
        "# Sample dictionary\n",
        "student_scores = {\n",
        "    'Alice': 85,\n",
        "    'Bob': 78,\n",
        "    'Charlie': 92\n",
        "}\n",
        "\n",
        "try:\n",
        "\n",
        "    name = input(\"Enter the student's name: \")\n",
        "    score = student_scores[name]\n",
        "    print(f\"{name}'s score is {score}\")\n",
        "except KeyError:\n",
        "    print(f\"Error: '{name}' not found in the student records.\")\n",
        "except Exception as e:\n",
        "    print(f\"An unexpected error occurred: {e}\")\n",
        "\n"
      ],
      "metadata": {
        "colab": {
          "base_uri": "https://localhost:8080/"
        },
        "id": "TO5F8C0VD7kt",
        "outputId": "cd807b0d-9c8d-414a-a929-3c4058431d85"
      },
      "execution_count": 16,
      "outputs": [
        {
          "output_type": "stream",
          "name": "stdout",
          "text": [
            "Enter the student's name: Alice\n",
            "Alice's score is 85\n"
          ]
        }
      ]
    },
    {
      "cell_type": "code",
      "source": [
        "#12. Write a program that demonstrates using multiple except blocks to handle different types of exceptions.\n",
        "\n",
        "try:\n",
        "    # User input for division\n",
        "    numerator = int(input(\"Enter the numerator: \"))\n",
        "    denominator = int(input(\"Enter the denominator: \"))\n",
        "\n",
        "    # Division operation\n",
        "    result = numerator / denominator\n",
        "    print(f\"Result: {result}\")\n",
        "\n",
        "    # Dictionary access\n",
        "    data = {'Alice': 90, 'Bob': 85}\n",
        "    name = input(\"Enter the student's name: \")\n",
        "    print(f\"{name}'s score: {data[name]}\")\n",
        "\n",
        "except ValueError:\n",
        "    print(\"Error: Invalid input. Please enter numeric values.\")\n",
        "except ZeroDivisionError:\n",
        "    print(\"Error: Division by zero is not allowed.\")\n",
        "except KeyError:\n",
        "    print(f\"Error: '{name}' not found in the records.\")\n",
        "except Exception as e:\n",
        "    print(f\"An unexpected error occurred: {e}\")\n"
      ],
      "metadata": {
        "colab": {
          "base_uri": "https://localhost:8080/"
        },
        "id": "DZLzXiPtEP5B",
        "outputId": "cbd2eb15-0de1-4c9a-cd64-5d9df3be5780"
      },
      "execution_count": 17,
      "outputs": [
        {
          "output_type": "stream",
          "name": "stdout",
          "text": [
            "Enter the numerator: 85\n",
            "Enter the denominator: 5\n",
            "Result: 17.0\n",
            "Enter the student's name: Bob\n",
            "Bob's score: 85\n"
          ]
        }
      ]
    },
    {
      "cell_type": "code",
      "source": [
        "#13.  How would you check if a file exists before attempting to read it in Python?\n",
        "\n",
        "import os\n",
        "\n",
        "filename = 'example.txt'\n",
        "\n",
        "if os.path.exists(filename):  # Check if the file exists\n",
        "    with open(filename, 'r') as file:\n",
        "        content = file.read()\n",
        "        print(\"File content:\\n\", content)\n",
        "else:\n",
        "    print(f\"Error: The file '{filename}' does not exist.\")\n"
      ],
      "metadata": {
        "colab": {
          "base_uri": "https://localhost:8080/"
        },
        "id": "l5nytKHNFq6K",
        "outputId": "5772be37-ffcc-4b07-98d9-f8422c86b476"
      },
      "execution_count": 18,
      "outputs": [
        {
          "output_type": "stream",
          "name": "stdout",
          "text": [
            "File content:\n",
            " Hello, this is a sample text written to the file.\n",
            "This is new content appended to the file.\n"
          ]
        }
      ]
    },
    {
      "cell_type": "code",
      "source": [
        "#14. Write a program that uses the logging module to log both informational and error messages.\n",
        "\n",
        "import logging\n",
        "\n",
        "# Configure logging settings\n",
        "logging.basicConfig(\n",
        "    filename='app.log',\n",
        "    level=logging.DEBUG,\n",
        "    format='%(asctime)s - %(levelname)s - %(message)s'\n",
        ")\n",
        "\n",
        "def divide_numbers(a, b):\n",
        "    try:\n",
        "        logging.info(f\"Attempting to divide {a} by {b}\")\n",
        "        result = a / b\n",
        "        logging.info(f\"Division successful: {a} / {b} = {result}\")\n",
        "        print(f\"Result: {result}\")\n",
        "    except ZeroDivisionError:\n",
        "        logging.error(\"Error: Division by zero attempted.\")\n",
        "        print(\"Error: Division by zero is not allowed.\")\n",
        "    except Exception as e:\n",
        "        logging.error(f\"Unexpected error occurred: {e}\")\n",
        "        print(f\"An unexpected error occurred: {e}\")\n",
        "\n",
        "# Example usage\n",
        "try:\n",
        "    numerator = int(input(\"Enter the numerator: \"))\n",
        "    denominator = int(input(\"Enter the denominator: \"))\n",
        "    divide_numbers(numerator, denominator)\n",
        "except ValueError:\n",
        "    logging.error(\"Invalid input: Non-numeric value entered.\")\n",
        "    print(\"Error: Please enter valid numeric values.\")\n"
      ],
      "metadata": {
        "colab": {
          "base_uri": "https://localhost:8080/"
        },
        "id": "EH7LdUAfGFYm",
        "outputId": "c4200393-3f26-4776-8347-4614cf864ce1"
      },
      "execution_count": 19,
      "outputs": [
        {
          "output_type": "stream",
          "name": "stdout",
          "text": [
            "Enter the numerator: 100\n",
            "Enter the denominator: 50\n",
            "Result: 2.0\n"
          ]
        }
      ]
    },
    {
      "cell_type": "code",
      "source": [
        "#15.  Write a Python program that prints the content of a file and handles the case when the file is empty.\n",
        "\n",
        "def read_file(filename):\n",
        "    try:\n",
        "        with open(filename, 'r') as file:\n",
        "            content = file.read().strip()  # Read and remove extra spaces/newlines\n",
        "\n",
        "            if content:  # Check if the file is non-empty\n",
        "                print(\"File content:\\n\", content)\n",
        "            else:\n",
        "                print(f\"The file '{filename}' is empty.\")\n",
        "\n",
        "    except FileNotFoundError:\n",
        "        print(f\"Error: The file '{filename}' does not exist.\")\n",
        "    except Exception as e:\n",
        "        print(f\"An unexpected error occurred: {e}\")\n",
        "\n",
        "# Example usage\n",
        "filename = input(\"Enter the file name: \")\n",
        "read_file(filename)\n"
      ],
      "metadata": {
        "colab": {
          "base_uri": "https://localhost:8080/"
        },
        "id": "vunCdYRpHFI4",
        "outputId": "e455318a-aa31-452d-fbaf-4fb5e7d918c9"
      },
      "execution_count": 21,
      "outputs": [
        {
          "output_type": "stream",
          "name": "stdout",
          "text": [
            "Enter the file name: sahil\n",
            "Error: The file 'sahil' does not exist.\n"
          ]
        }
      ]
    },
    {
      "cell_type": "code",
      "source": [
        "#17. Write a Python program to create and write a list of numbers to a file, one number per line.\n",
        "\n",
        "def write_numbers_to_file(filename, numbers):\n",
        "    try:\n",
        "        with open(filename, 'w') as file:\n",
        "            for number in numbers:\n",
        "                file.write(f\"{number}\\n\")\n",
        "        print(f\"Numbers successfully written to '{filename}'.\")\n",
        "    except Exception as e:\n",
        "        print(f\"An error occurred: {e}\")\n",
        "\n",
        "numbers = list(range(1, 21))\n",
        "write_numbers_to_file('numbers.txt', numbers)\n"
      ],
      "metadata": {
        "colab": {
          "base_uri": "https://localhost:8080/"
        },
        "id": "_h8oANImI8rQ",
        "outputId": "90b7bc59-b509-4653-f51b-3e9d8f6fd13b"
      },
      "execution_count": 25,
      "outputs": [
        {
          "output_type": "stream",
          "name": "stdout",
          "text": [
            "Numbers successfully written to 'numbers.txt'.\n"
          ]
        }
      ]
    },
    {
      "cell_type": "code",
      "source": [
        "#18. How would you implement a basic logging setup that logs to a file with rotation after 1MB?\n",
        "\n",
        "import logging\n",
        "from logging.handlers import RotatingFileHandler\n",
        "\n",
        "log_file = 'app.log'\n",
        "logging.basicConfig(\n",
        "    level=logging.DEBUG,\n",
        "    format='%(asctime)s - %(levelname)s - %(message)s',\n",
        "    handlers=[\n",
        "        RotatingFileHandler(log_file, maxBytes=1_048_576, backupCount=3)\n",
        "    ]\n",
        ")\n",
        "\n",
        "logging.info(\"Application started.\")\n",
        "for i in range(10000):\n",
        "    logging.debug(f\"Debug message {i}\")\n",
        "logging.warning(\"This is a warning.\")\n",
        "logging.error(\"An error occurred.\")\n",
        "logging.info(\"Application finished successfully.\")\n"
      ],
      "metadata": {
        "colab": {
          "base_uri": "https://localhost:8080/"
        },
        "id": "M9A5Rv-vLC5Y",
        "outputId": "46c472b0-0208-4fbc-b520-a719bcef9c9d"
      },
      "execution_count": 26,
      "outputs": [
        {
          "output_type": "stream",
          "name": "stderr",
          "text": [
            "WARNING:root:This is a warning.\n",
            "ERROR:root:An error occurred.\n"
          ]
        }
      ]
    },
    {
      "cell_type": "code",
      "source": [
        "#19. Write a program that handles both IndexError and KeyError using a try-except block.\n",
        "\n",
        "def access_elements():\n",
        "    # Sample list and dictionary\n",
        "    my_list = [10, 20, 30]\n",
        "    my_dict = {'a': 1, 'b': 2, 'c': 3}\n",
        "\n",
        "    try:\n",
        "\n",
        "        index = int(input(\"Enter a list index (0-2): \"))\n",
        "        print(f\"Element at index {index}: {my_list[index]}\")\n",
        "\n",
        "        key = input(\"Enter a dictionary key (a-c): \")\n",
        "        print(f\"Value for key '{key}': {my_dict[key]}\")\n",
        "\n",
        "    except IndexError:\n",
        "        print(\"Error: Index out of range. Please choose a valid index.\")\n",
        "\n",
        "    except KeyError:\n",
        "        print(\"Error: Key not found in the dictionary.\")\n",
        "\n",
        "    except Exception as e:\n",
        "        print(f\"An unexpected error occurred: {e}\")\n",
        "\n",
        "access_elements()\n"
      ],
      "metadata": {
        "colab": {
          "base_uri": "https://localhost:8080/"
        },
        "id": "Dqm0YXAILUx9",
        "outputId": "b9084c24-adde-42e5-d29b-cce059e35893"
      },
      "execution_count": 28,
      "outputs": [
        {
          "output_type": "stream",
          "name": "stdout",
          "text": [
            "Enter a list index (0-2): 1\n",
            "Element at index 1: 20\n",
            "Enter a dictionary key (a-c): a\n",
            "Value for key 'a': 1\n"
          ]
        }
      ]
    },
    {
      "cell_type": "code",
      "source": [
        "#20. How would you open a file and read its contents using a context manager in Python?\n",
        "\n",
        "filename = 'sample.txt'\n",
        "\n",
        "try:\n",
        "    with open(filename, 'r') as file:\n",
        "        content = file.read()\n",
        "        print(\"File Content:\\n\", content)\n",
        "except FileNotFoundError:\n",
        "    print(f\"Error: The file '{filename}' does not exist.\")\n",
        "except Exception as e:\n",
        "    print(f\"An unexpected error occurred: {e}\")\n"
      ],
      "metadata": {
        "colab": {
          "base_uri": "https://localhost:8080/"
        },
        "id": "vlkeMjmpLgdI",
        "outputId": "176662f7-a910-4acb-9375-ad383054080b"
      },
      "execution_count": 29,
      "outputs": [
        {
          "output_type": "stream",
          "name": "stdout",
          "text": [
            "Error: The file 'sample.txt' does not exist.\n"
          ]
        }
      ]
    },
    {
      "cell_type": "code",
      "source": [
        "#21. Write a Python program that reads a file and prints the number of occurrences of a specific word.\n",
        "\n",
        "def count_word_occurrences(filename, target_word):\n",
        "    try:\n",
        "        with open(filename, 'r') as file:\n",
        "            content = file.read().lower()\n",
        "            words = content.split()\n",
        "\n",
        "            word_count = words.count(target_word.lower())\n",
        "\n",
        "            print(f\"The word '{target_word}' appears {word_count} time(s) in '{filename}'.\")\n",
        "\n",
        "    except FileNotFoundError:\n",
        "        print(f\"Error: The file '{filename}' does not exist.\")\n",
        "    except Exception as e:\n",
        "        print(f\"An unexpected error occurred: {e}\")\n",
        "\n",
        "filename = input(\"Enter the file name: \")\n",
        "word = input(\"Enter the word to count: \")\n",
        "count_word_occurrences(filename, word)\n",
        "\n"
      ],
      "metadata": {
        "colab": {
          "base_uri": "https://localhost:8080/"
        },
        "id": "NstQp2mnLwhc",
        "outputId": "7eb732e6-7818-4ad7-c868-fd948865d969"
      },
      "execution_count": 31,
      "outputs": [
        {
          "output_type": "stream",
          "name": "stdout",
          "text": [
            "Enter the file name: target_word\n",
            "Enter the word to count: target_word\n",
            "Error: The file 'target_word' does not exist.\n"
          ]
        }
      ]
    },
    {
      "cell_type": "code",
      "source": [
        "#23. Write a Python program that writes to a log file when an error occurs during file handling.\n",
        "\n",
        "import logging\n",
        "\n",
        "# Configure logging settings\n",
        "logging.basicConfig(\n",
        "    filename='error_log.txt',      # Log file name\n",
        "    level=logging.ERROR,           # Log only error-level messages\n",
        "    format='%(asctime)s - %(levelname)s - %(message)s'\n",
        ")\n",
        "\n",
        "def read_file(filename):\n",
        "    try:\n",
        "        with open(filename, 'r') as file:\n",
        "            content = file.read()\n",
        "            print(\"File content:\\n\", content)\n",
        "    except FileNotFoundError:\n",
        "        error_message = f\"Error: The file '{filename}' does not exist.\"\n",
        "        logging.error(error_message)\n",
        "        print(error_message)\n",
        "    except PermissionError:\n",
        "        error_message = f\"Error: Permission denied for file '{filename}'.\"\n",
        "        logging.error(error_message)\n",
        "#23. Write a Python program that writes to a log file when an error occurs during file handling.\n",
        "\n",
        "import logging\n",
        "\n",
        "logging.basicConfig(\n",
        "    filename='error_log.txt',\n",
        "    level=logging.ERROR,\n",
        "    format='%(asctime)s - %(levelname)s - %(message)s'\n",
        ")\n",
        "\n",
        "def read_file(filename):\n",
        "    try:\n",
        "        with open(filename, 'r') as file:\n",
        "            content = file.read()\n",
        "            print(\"File content:\\n\", content)\n",
        "    except FileNotFoundError:\n",
        "        error_message = f\"Error: The file '{filename}' does not exist.\"\n",
        "        logging.error(error_message)\n",
        "        print(error_message)\n",
        "    except PermissionError:\n",
        "        error_message = f\"Error: Permission denied for file '{filename}'.\"\n",
        "        logging.error(error_message)\n",
        "        print(error_message)\n",
        "    except Exception as e:\n",
        "        error_message = f\"Unexpected error occurred while reading '{filename}': {e}\"\n",
        "        logging.error(error_message)\n",
        "        print(error_message)\n",
        "\n",
        "read_file('non_existent_file.txt')\n",
        "read_file('my_file.txt')"
      ],
      "metadata": {
        "colab": {
          "base_uri": "https://localhost:8080/"
        },
        "id": "A9U6d4tzMyxm",
        "outputId": "9f437a78-a86f-4ccf-f6ea-622581783bb4"
      },
      "execution_count": 34,
      "outputs": [
        {
          "output_type": "stream",
          "name": "stderr",
          "text": [
            "ERROR:root:Error: The file 'non_existent_file.txt' does not exist.\n",
            "ERROR:root:Error: The file 'my_file.txt' does not exist.\n"
          ]
        },
        {
          "output_type": "stream",
          "name": "stdout",
          "text": [
            "Error: The file 'non_existent_file.txt' does not exist.\n",
            "Error: The file 'my_file.txt' does not exist.\n"
          ]
        }
      ]
    },
    {
      "cell_type": "code",
      "source": [],
      "metadata": {
        "id": "BYUguPARNArg"
      },
      "execution_count": null,
      "outputs": []
    }
  ]
}